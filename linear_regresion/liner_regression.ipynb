{
 "cells": [
  {
   "cell_type": "markdown",
   "id": "0807d25d",
   "metadata": {},
   "source": [
    "# Linear Regression:\n"
   ]
  },
  {
   "cell_type": "markdown",
   "id": "d168ba03",
   "metadata": {},
   "source": [
    "  In linear regression we are provided with dependent (Y) and independent (X) variables, we have to find the function which describes relationship between dependent and independent variables.  Linear relationship can be described with following equation.\n",
    "$$Y = mX + c $$ \n",
    "\n",
    "Here, Y is the dependent variable we are trying to predict.\n",
    "\n",
    "X is the independent variable we are using to make predictions.\n",
    "\n",
    "m is the slop of the regression line which represents the effect X has on Y\n",
    "\n",
    "c is a constant, known as the Y-intercept. If X = 0,Y would be equal to c.\n",
    "\n",
    "Furthermore, the linear relationship can be positive or negative in nature as explained below"
   ]
  },
  {
   "cell_type": "markdown",
   "id": "06a5c7af",
   "metadata": {},
   "source": [
    "# Steps applied in linear regression modeling\n",
    "\n",
    "The following steps are applied in linear regression modeling in industry:\n",
    "\n",
    "1.Missing value and outlier treatment\n",
    "\n",
    "2.Correlation check of independent variables\n",
    "\n",
    "3.Train and test random classification\n",
    "\n",
    "4.Fit the model on train data\n",
    "\n",
    "5.Evaluate model on test data\n",
    "\n",
    "\n",
    "\n",
    "\n"
   ]
  },
  {
   "cell_type": "markdown",
   "id": "6879c9be",
   "metadata": {},
   "source": [
    "### Moving forward to my 1st task. Here I'm provided with student_score.csv file. In this particular problem I have to train machine learning model using given data set and the to predict the percentage obtained by student given the time spend in studying.  "
   ]
  },
  {
   "cell_type": "code",
   "execution_count": 1,
   "id": "3b10bd78",
   "metadata": {},
   "outputs": [],
   "source": [
    "# Importing important libraries:\n",
    "import numpy as np\n",
    "import pandas as pd\n",
    "from sklearn.model_selection import train_test_split\n",
    "from sklearn.linear_model import LinearRegression\n",
    "import matplotlib.pyplot as plt\n",
    "%matplotlib inline"
   ]
  },
  {
   "cell_type": "code",
   "execution_count": 2,
   "id": "929bee72",
   "metadata": {},
   "outputs": [],
   "source": [
    "student_score =pd.read_csv(\"student_scores - student_scores.csv\")"
   ]
  },
  {
   "cell_type": "code",
   "execution_count": 3,
   "id": "0ebdf596",
   "metadata": {},
   "outputs": [
    {
     "data": {
      "text/html": [
       "<div>\n",
       "<style scoped>\n",
       "    .dataframe tbody tr th:only-of-type {\n",
       "        vertical-align: middle;\n",
       "    }\n",
       "\n",
       "    .dataframe tbody tr th {\n",
       "        vertical-align: top;\n",
       "    }\n",
       "\n",
       "    .dataframe thead th {\n",
       "        text-align: right;\n",
       "    }\n",
       "</style>\n",
       "<table border=\"1\" class=\"dataframe\">\n",
       "  <thead>\n",
       "    <tr style=\"text-align: right;\">\n",
       "      <th></th>\n",
       "      <th>Hours</th>\n",
       "      <th>Scores</th>\n",
       "    </tr>\n",
       "  </thead>\n",
       "  <tbody>\n",
       "    <tr>\n",
       "      <th>0</th>\n",
       "      <td>2.5</td>\n",
       "      <td>21</td>\n",
       "    </tr>\n",
       "    <tr>\n",
       "      <th>1</th>\n",
       "      <td>5.1</td>\n",
       "      <td>47</td>\n",
       "    </tr>\n",
       "    <tr>\n",
       "      <th>2</th>\n",
       "      <td>3.2</td>\n",
       "      <td>27</td>\n",
       "    </tr>\n",
       "    <tr>\n",
       "      <th>3</th>\n",
       "      <td>8.5</td>\n",
       "      <td>75</td>\n",
       "    </tr>\n",
       "    <tr>\n",
       "      <th>4</th>\n",
       "      <td>3.5</td>\n",
       "      <td>30</td>\n",
       "    </tr>\n",
       "  </tbody>\n",
       "</table>\n",
       "</div>"
      ],
      "text/plain": [
       "   Hours  Scores\n",
       "0    2.5      21\n",
       "1    5.1      47\n",
       "2    3.2      27\n",
       "3    8.5      75\n",
       "4    3.5      30"
      ]
     },
     "execution_count": 3,
     "metadata": {},
     "output_type": "execute_result"
    }
   ],
   "source": [
    "student_score.head()"
   ]
  },
  {
   "cell_type": "code",
   "execution_count": 4,
   "id": "424aff06",
   "metadata": {},
   "outputs": [
    {
     "name": "stdout",
     "output_type": "stream",
     "text": [
      "<class 'pandas.core.frame.DataFrame'>\n",
      "RangeIndex: 25 entries, 0 to 24\n",
      "Data columns (total 2 columns):\n",
      " #   Column  Non-Null Count  Dtype  \n",
      "---  ------  --------------  -----  \n",
      " 0   Hours   25 non-null     float64\n",
      " 1   Scores  25 non-null     int64  \n",
      "dtypes: float64(1), int64(1)\n",
      "memory usage: 528.0 bytes\n",
      "None\n",
      "\n",
      "----------------------\n",
      "Missing values:  Hours     0\n",
      "Scores    0\n",
      "dtype: int64\n"
     ]
    }
   ],
   "source": [
    "# checking if data set have any Missing values.\n",
    "print(student_score.info())\n",
    "print(\"\\n----------------------\")\n",
    "print(\"Missing values: \",student_score.isna().sum())"
   ]
  },
  {
   "cell_type": "markdown",
   "id": "93ddab5a",
   "metadata": {},
   "source": [
    "Dataset doesn't have any missing value. As the dataset is small we will not look for outliers."
   ]
  },
  {
   "cell_type": "code",
   "execution_count": 5,
   "id": "d2a626d0",
   "metadata": {},
   "outputs": [
    {
     "name": "stdout",
     "output_type": "stream",
     "text": [
      "Correlation between hours and score:            Hours    Scores\n",
      "Hours   1.000000  0.976191\n",
      "Scores  0.976191  1.000000\n"
     ]
    }
   ],
   "source": [
    "# Looking for correlation between the hours and score.\n",
    "\n",
    "print('Correlation between hours and score:',student_score.corr())"
   ]
  },
  {
   "cell_type": "markdown",
   "id": "265eedf7",
   "metadata": {},
   "source": [
    "There is strong correlation between hours and scores"
   ]
  },
  {
   "cell_type": "code",
   "execution_count": 6,
   "id": "42ca266f",
   "metadata": {},
   "outputs": [
    {
     "data": {
      "text/plain": [
       "<matplotlib.collections.PathCollection at 0x7f9b219faf70>"
      ]
     },
     "execution_count": 6,
     "metadata": {},
     "output_type": "execute_result"
    },
    {
     "data": {
      "image/png": "[encoded data removed]",
      "text/plain": [
       "<Figure size 432x288 with 1 Axes>"
      ]
     },
     "metadata": {
      "needs_background": "light"
     },
     "output_type": "display_data"
    }
   ],
   "source": [
    "plt.scatter(student_score.Hours, student_score.Scores)"
   ]
  },
  {
   "cell_type": "markdown",
   "id": "ed9172b6",
   "metadata": {},
   "source": [
    "So from the Graph we can see that as number of studying hours increases Scores also increases."
   ]
  },
  {
   "cell_type": "markdown",
   "id": "c66baf97",
   "metadata": {},
   "source": [
    "#### Prepareing the data."
   ]
  },
  {
   "cell_type": "code",
   "execution_count": 7,
   "id": "195e88ee",
   "metadata": {},
   "outputs": [],
   "source": [
    "X = student_score.iloc[:, :-1].values  \n",
    "y = student_score.iloc[:, 1].values  "
   ]
  },
  {
   "cell_type": "code",
   "execution_count": 8,
   "id": "680c9927",
   "metadata": {},
   "outputs": [],
   "source": [
    "# Train and test random classification\n",
    "x_train, x_test, y_train, y_test = train_test_split(X,y, test_size=0.30, random_state=0)"
   ]
  },
  {
   "cell_type": "code",
   "execution_count": 9,
   "id": "8cb8f47d",
   "metadata": {},
   "outputs": [
    {
     "data": {
      "text/plain": [
       "LinearRegression()"
      ]
     },
     "execution_count": 9,
     "metadata": {},
     "output_type": "execute_result"
    }
   ],
   "source": [
    "#Applying Machine Learning model\n",
    "linear_model=LinearRegression()\n",
    "linear_model.fit(x_train, y_train)"
   ]
  },
  {
   "cell_type": "code",
   "execution_count": 10,
   "id": "7be79d8b",
   "metadata": {},
   "outputs": [],
   "source": [
    "#Predicting using test set\n",
    "y_pred=linear_model.predict(x_test)"
   ]
  },
  {
   "cell_type": "markdown",
   "id": "286b0680",
   "metadata": {},
   "source": [
    "### Evaluting Model.\n",
    "There are various matrics used for evaluating the performance of model. Here I used Mean Squared error and R2 Score to evaluate the model. R Square is a good measure to determine how well the model fits the dependent variables.While,  Mean Square Error is an absolute measure of the goodness for the fit.\n",
    "\n"
   ]
  },
  {
   "cell_type": "code",
   "execution_count": 11,
   "id": "a85beb06",
   "metadata": {},
   "outputs": [
    {
     "name": "stdout",
     "output_type": "stream",
     "text": [
      "mean square error: 22.96509721270043\n",
      "R2_score:  0.9568211104435257\n"
     ]
    }
   ],
   "source": [
    "#checking Performance of model\n",
    "from sklearn.metrics import mean_squared_error, r2_score\n",
    "print('mean square error:', mean_squared_error(y_test, y_pred))\n",
    "print('R2_score: ', r2_score(y_test,y_pred))"
   ]
  },
  {
   "cell_type": "markdown",
   "id": "7520c59d",
   "metadata": {},
   "source": [
    "So from the above results we can see that my model is 95.68 % accurate. "
   ]
  },
  {
   "cell_type": "code",
   "execution_count": 12,
   "id": "708731f9",
   "metadata": {},
   "outputs": [
    {
     "data": {
      "image/png": "[encoded data removed]",
      "text/plain": [
       "<Figure size 432x288 with 1 Axes>"
      ]
     },
     "metadata": {
      "needs_background": "light"
     },
     "output_type": "display_data"
    }
   ],
   "source": [
    "#Now we will plot regression line\n",
    "line= linear_model.coef_*X + linear_model.intercept_\n",
    "\n",
    "plt.scatter(X,y)\n",
    "plt.plot(X, line,color='green')\n",
    "plt.show()"
   ]
  },
  {
   "cell_type": "code",
   "execution_count": 13,
   "id": "74db3327",
   "metadata": {},
   "outputs": [
    {
     "data": {
      "text/html": [
       "<div>\n",
       "<style scoped>\n",
       "    .dataframe tbody tr th:only-of-type {\n",
       "        vertical-align: middle;\n",
       "    }\n",
       "\n",
       "    .dataframe tbody tr th {\n",
       "        vertical-align: top;\n",
       "    }\n",
       "\n",
       "    .dataframe thead th {\n",
       "        text-align: right;\n",
       "    }\n",
       "</style>\n",
       "<table border=\"1\" class=\"dataframe\">\n",
       "  <thead>\n",
       "    <tr style=\"text-align: right;\">\n",
       "      <th></th>\n",
       "      <th>Actual</th>\n",
       "      <th>Predicted</th>\n",
       "    </tr>\n",
       "  </thead>\n",
       "  <tbody>\n",
       "    <tr>\n",
       "      <th>0</th>\n",
       "      <td>20</td>\n",
       "      <td>17.053665</td>\n",
       "    </tr>\n",
       "    <tr>\n",
       "      <th>1</th>\n",
       "      <td>27</td>\n",
       "      <td>33.694229</td>\n",
       "    </tr>\n",
       "    <tr>\n",
       "      <th>2</th>\n",
       "      <td>69</td>\n",
       "      <td>74.806209</td>\n",
       "    </tr>\n",
       "    <tr>\n",
       "      <th>3</th>\n",
       "      <td>30</td>\n",
       "      <td>26.842232</td>\n",
       "    </tr>\n",
       "    <tr>\n",
       "      <th>4</th>\n",
       "      <td>62</td>\n",
       "      <td>60.123359</td>\n",
       "    </tr>\n",
       "    <tr>\n",
       "      <th>5</th>\n",
       "      <td>35</td>\n",
       "      <td>39.567369</td>\n",
       "    </tr>\n",
       "    <tr>\n",
       "      <th>6</th>\n",
       "      <td>24</td>\n",
       "      <td>20.969092</td>\n",
       "    </tr>\n",
       "    <tr>\n",
       "      <th>7</th>\n",
       "      <td>86</td>\n",
       "      <td>78.721636</td>\n",
       "    </tr>\n",
       "  </tbody>\n",
       "</table>\n",
       "</div>"
      ],
      "text/plain": [
       "   Actual  Predicted\n",
       "0      20  17.053665\n",
       "1      27  33.694229\n",
       "2      69  74.806209\n",
       "3      30  26.842232\n",
       "4      62  60.123359\n",
       "5      35  39.567369\n",
       "6      24  20.969092\n",
       "7      86  78.721636"
      ]
     },
     "execution_count": 13,
     "metadata": {},
     "output_type": "execute_result"
    }
   ],
   "source": [
    "# Comparing Actual vs Predicted values\n",
    "df = pd.DataFrame({'Actual': y_test, 'Predicted': y_pred})  \n",
    "df"
   ]
  },
  {
   "cell_type": "code",
   "execution_count": 14,
   "id": "fcc8305c",
   "metadata": {},
   "outputs": [
    {
     "data": {
      "text/plain": [
       "<matplotlib.collections.PathCollection at 0x7f9b0f0c6580>"
      ]
     },
     "execution_count": 14,
     "metadata": {},
     "output_type": "execute_result"
    },
    {
     "data": {
      "image/png": "[encoded data removed]",
      "text/plain": [
       "<Figure size 432x288 with 1 Axes>"
      ]
     },
     "metadata": {
      "needs_background": "light"
     },
     "output_type": "display_data"
    }
   ],
   "source": [
    "plt.scatter(y_test, y_pred)"
   ]
  },
  {
   "cell_type": "code",
   "execution_count": 15,
   "id": "38bf2f31",
   "metadata": {},
   "outputs": [
    {
     "name": "stdout",
     "output_type": "stream",
     "text": [
      "No of Hours =  9.25\n",
      "Predicted Score =  [92.91505723]\n"
     ]
    }
   ],
   "source": [
    "#Now testing with our own data.\n",
    "hours = 9.25\n",
    "pred = linear_model.predict(np.array([[hours]]))\n",
    "print(\"No of Hours = \",hours)\n",
    "print(\"Predicted Score = \",pred)"
   ]
  },
  {
   "cell_type": "code",
   "execution_count": null,
   "id": "d9ead025",
   "metadata": {},
   "outputs": [],
   "source": []
  }
 ],
 "metadata": {
  "kernelspec": {
   "display_name": "Python 3",
   "language": "python",
   "name": "python3"
  },
  "language_info": {
   "codemirror_mode": {
    "name": "ipython",
    "version": 3
   },
   "file_extension": ".py",
   "mimetype": "text/x-python",
   "name": "python",
   "nbconvert_exporter": "python",
   "pygments_lexer": "ipython3",
   "version": "3.8.8"
  }
 },
 "nbformat": 4,
 "nbformat_minor": 5
}
